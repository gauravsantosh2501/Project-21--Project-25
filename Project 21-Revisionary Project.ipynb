{
 "cells": [
  {
   "cell_type": "code",
   "execution_count": 1,
   "metadata": {},
   "outputs": [],
   "source": [
    "# import scikit learn databases\n",
    "from sklearn import datasets\n",
    "# import california housing data from sklearn and store data into a variable\n",
    "calihouses = datasets.fetch_california_housing()\n",
    "calidata = calihouses.data"
   ]
  },
  {
   "cell_type": "code",
   "execution_count": 2,
   "metadata": {},
   "outputs": [
    {
     "name": "stdout",
     "output_type": "stream",
     "text": [
      "(20640, 8)\n",
      "       MedInc  HouseAge  AveRooms  AveBedrms  Population  AveOccup  Latitude  \\\n",
      "0      8.3252      41.0  6.984127   1.023810       322.0  2.555556     37.88   \n",
      "1      8.3014      21.0  6.238137   0.971880      2401.0  2.109842     37.86   \n",
      "2      7.2574      52.0  8.288136   1.073446       496.0  2.802260     37.85   \n",
      "3      5.6431      52.0  5.817352   1.073059       558.0  2.547945     37.85   \n",
      "4      3.8462      52.0  6.281853   1.081081       565.0  2.181467     37.85   \n",
      "5      4.0368      52.0  4.761658   1.103627       413.0  2.139896     37.85   \n",
      "6      3.6591      52.0  4.931907   0.951362      1094.0  2.128405     37.84   \n",
      "7      3.1200      52.0  4.797527   1.061824      1157.0  1.788253     37.84   \n",
      "8      2.0804      42.0  4.294118   1.117647      1206.0  2.026891     37.84   \n",
      "9      3.6912      52.0  4.970588   0.990196      1551.0  2.172269     37.84   \n",
      "10     3.2031      52.0  5.477612   1.079602       910.0  2.263682     37.85   \n",
      "11     3.2705      52.0  4.772480   1.024523      1504.0  2.049046     37.85   \n",
      "12     3.0750      52.0  5.322650   1.012821      1098.0  2.346154     37.85   \n",
      "13     2.6736      52.0  4.000000   1.097701       345.0  1.982759     37.84   \n",
      "14     1.9167      52.0  4.262903   1.009677      1212.0  1.954839     37.85   \n",
      "15     2.1250      50.0  4.242424   1.071970       697.0  2.640152     37.85   \n",
      "16     2.7750      52.0  5.939577   1.048338       793.0  2.395770     37.85   \n",
      "17     2.1202      52.0  4.052805   0.966997       648.0  2.138614     37.85   \n",
      "18     1.9911      50.0  5.343675   1.085919       990.0  2.362768     37.84   \n",
      "19     2.6033      52.0  5.465455   1.083636       690.0  2.509091     37.84   \n",
      "20     1.3578      40.0  4.524096   1.108434       409.0  2.463855     37.85   \n",
      "21     1.7135      42.0  4.478142   1.002732       929.0  2.538251     37.85   \n",
      "22     1.7250      52.0  5.096234   1.131799      1015.0  2.123431     37.84   \n",
      "23     2.1806      52.0  5.193846   1.036923       853.0  2.624615     37.84   \n",
      "24     2.6000      52.0  5.270142   1.035545      1006.0  2.383886     37.84   \n",
      "25     2.4038      41.0  4.495798   1.033613       317.0  2.663866     37.85   \n",
      "26     2.4597      49.0  4.728033   1.020921       607.0  2.539749     37.85   \n",
      "27     1.8080      52.0  4.780856   1.060453      1102.0  2.775819     37.85   \n",
      "28     1.6424      50.0  4.401691   1.040169      1131.0  2.391121     37.84   \n",
      "29     1.6875      52.0  4.703226   1.032258       395.0  2.548387     37.84   \n",
      "...       ...       ...       ...        ...         ...       ...       ...   \n",
      "20610  1.3631      28.0  4.851936   1.102506      1195.0  2.722096     39.10   \n",
      "20611  1.2857      27.0  4.359413   1.078240      1163.0  2.843521     39.10   \n",
      "20612  1.4934      26.0  5.157303   1.082397       761.0  2.850187     39.08   \n",
      "20613  1.4958      31.0  4.500000   0.950521      1167.0  3.039062     39.09   \n",
      "20614  2.4695      26.0  4.801688   0.970464      1455.0  3.069620     39.08   \n",
      "20615  2.3598      23.0  5.461929   1.096447       724.0  3.675127     39.08   \n",
      "20616  2.0469      15.0  4.826667   1.176000      1157.0  3.085333     39.08   \n",
      "20617  3.3021      20.0  4.921053   0.956140       308.0  2.701754     39.06   \n",
      "20618  2.2500      25.0  5.893805   1.092920       726.0  3.212389     39.06   \n",
      "20619  2.7303      22.0  6.388514   1.148649      1023.0  3.456081     39.01   \n",
      "20620  4.5625      40.0  4.125000   0.854167       151.0  3.145833     39.05   \n",
      "20621  2.3661      37.0  7.923567   1.573248       484.0  3.082803     39.01   \n",
      "20622  2.4167      20.0  4.808917   0.936306       457.0  2.910828     39.00   \n",
      "20623  2.8235      32.0  5.101322   1.074890       598.0  2.634361     39.03   \n",
      "20624  3.0739      16.0  5.835052   1.030928       731.0  2.512027     39.04   \n",
      "20625  4.1250      37.0  7.285714   1.214286        29.0  2.071429     39.12   \n",
      "20626  2.1667      36.0  6.573099   1.076023       504.0  2.947368     39.18   \n",
      "20627  3.0000       5.0  6.067797   1.101695       169.0  2.864407     39.13   \n",
      "20628  2.5952      19.0  5.238462   1.079487      1018.0  2.610256     39.10   \n",
      "20629  2.0943      28.0  5.519802   1.020902      6912.0  3.801980     39.12   \n",
      "20630  3.5673      11.0  5.932584   1.134831      1257.0  2.824719     39.29   \n",
      "20631  3.5179      15.0  6.145833   1.141204      1200.0  2.777778     39.33   \n",
      "20632  3.1250      15.0  6.023377   1.080519      1047.0  2.719481     39.26   \n",
      "20633  2.5495      27.0  5.445026   1.078534      1082.0  2.832461     39.19   \n",
      "20634  3.7125      28.0  6.779070   1.148256      1041.0  3.026163     39.27   \n",
      "20635  1.5603      25.0  5.045455   1.133333       845.0  2.560606     39.48   \n",
      "20636  2.5568      18.0  6.114035   1.315789       356.0  3.122807     39.49   \n",
      "20637  1.7000      17.0  5.205543   1.120092      1007.0  2.325635     39.43   \n",
      "20638  1.8672      18.0  5.329513   1.171920       741.0  2.123209     39.43   \n",
      "20639  2.3886      16.0  5.254717   1.162264      1387.0  2.616981     39.37   \n",
      "\n",
      "       Longitude  \n",
      "0        -122.23  \n",
      "1        -122.22  \n",
      "2        -122.24  \n",
      "3        -122.25  \n",
      "4        -122.25  \n",
      "5        -122.25  \n",
      "6        -122.25  \n",
      "7        -122.25  \n",
      "8        -122.26  \n",
      "9        -122.25  \n",
      "10       -122.26  \n",
      "11       -122.26  \n",
      "12       -122.26  \n",
      "13       -122.26  \n",
      "14       -122.26  \n",
      "15       -122.26  \n",
      "16       -122.27  \n",
      "17       -122.27  \n",
      "18       -122.26  \n",
      "19       -122.27  \n",
      "20       -122.27  \n",
      "21       -122.27  \n",
      "22       -122.27  \n",
      "23       -122.27  \n",
      "24       -122.27  \n",
      "25       -122.28  \n",
      "26       -122.28  \n",
      "27       -122.28  \n",
      "28       -122.28  \n",
      "29       -122.28  \n",
      "...          ...  \n",
      "20610    -121.56  \n",
      "20611    -121.55  \n",
      "20612    -121.56  \n",
      "20613    -121.55  \n",
      "20614    -121.54  \n",
      "20615    -121.54  \n",
      "20616    -121.53  \n",
      "20617    -121.53  \n",
      "20618    -121.55  \n",
      "20619    -121.56  \n",
      "20620    -121.48  \n",
      "20621    -121.47  \n",
      "20622    -121.44  \n",
      "20623    -121.37  \n",
      "20624    -121.41  \n",
      "20625    -121.52  \n",
      "20626    -121.43  \n",
      "20627    -121.32  \n",
      "20628    -121.48  \n",
      "20629    -121.39  \n",
      "20630    -121.32  \n",
      "20631    -121.40  \n",
      "20632    -121.45  \n",
      "20633    -121.53  \n",
      "20634    -121.56  \n",
      "20635    -121.09  \n",
      "20636    -121.21  \n",
      "20637    -121.22  \n",
      "20638    -121.32  \n",
      "20639    -121.24  \n",
      "\n",
      "[20640 rows x 8 columns]\n"
     ]
    }
   ],
   "source": [
    "# import pandas and numpy\n",
    "import pandas as pd\n",
    "import numpy as np\n",
    "# define the columns names of the data then convert to dataframe\n",
    "headers = calihouses.feature_names\n",
    "df = pd.DataFrame(calidata, columns=headers)\n",
    "# print the df and shape to get a better understanding of the data\n",
    "print(df.shape)\n",
    "print(df)"
   ]
  },
  {
   "cell_type": "code",
   "execution_count": 3,
   "metadata": {},
   "outputs": [
    {
     "name": "stdout",
     "output_type": "stream",
     "text": [
      "(15480, 8) (15480,)\n",
      "(5160, 8) (5160,)\n"
     ]
    }
   ],
   "source": [
    "# first store all target data to a variable\n",
    "y = calihouses.target\n",
    "# create testing and training sets for hold-out verification using scikit learn method\n",
    "from sklearn.model_selection import train_test_split\n",
    "X_train, X_test, y_train, y_test = train_test_split(df, y, test_size = 0.25)\n",
    "# validate set shapes\n",
    "print(X_train.shape, y_train.shape)\n",
    "print(X_test.shape, y_test.shape)"
   ]
  },
  {
   "cell_type": "code",
   "execution_count": 4,
   "metadata": {},
   "outputs": [
    {
     "name": "stdout",
     "output_type": "stream",
     "text": [
      "[2.56291462 2.57172758 1.93848697 ... 2.30540273 1.6903906  1.97494749]\n"
     ]
    }
   ],
   "source": [
    "# time function using .time methods for later comparison\n",
    "from timeit import default_timer as timer\n",
    "start_ho = timer()\n",
    "# fit a model using linear model method from sklearn\n",
    "from sklearn import linear_model\n",
    "lm = linear_model.LinearRegression()\n",
    "model = lm.fit(X_train, y_train)\n",
    "# generate predictions\n",
    "predictions = lm.predict(X_test)\n",
    "end_ho = timer()\n",
    "# calcualte function runtime\n",
    "time_ho = (end_ho - start_ho)\n",
    "# show predictions\n",
    "print(predictions)"
   ]
  },
  {
   "cell_type": "code",
   "execution_count": 5,
   "metadata": {},
   "outputs": [
    {
     "data": {
      "text/plain": [
       "[<matplotlib.lines.Line2D at 0xc7ed358>]"
      ]
     },
     "execution_count": 5,
     "metadata": {},
     "output_type": "execute_result"
    }
   ],
   "source": [
    "# import seaborn and plotly\n",
    "import matplotlib\n",
    "from matplotlib import pyplot as plt\n",
    "import seaborn as sns\n",
    "# set viz style\n",
    "sns.set_style('dark')\n",
    "# plot the model\n",
    "plot = sns.scatterplot(y_test, predictions)\n",
    "plot.set(xlabel='Given', ylabel='Prediction')\n",
    "# generate and graph y = x line\n",
    "x_plot = np.linspace(0,5,100)\n",
    "y_plot = x_plot\n",
    "plt.plot(x_plot, y_plot, color='r')"
   ]
  },
  {
   "cell_type": "markdown",
   "metadata": {},
   "source": [
    "Now, lets get a score for the model to evaluate it against later methods"
   ]
  },
  {
   "cell_type": "code",
   "execution_count": 6,
   "metadata": {},
   "outputs": [
    {
     "name": "stdout",
     "output_type": "stream",
     "text": [
      "-0.5037928849298428\n"
     ]
    }
   ],
   "source": [
    "start_ho_score = timer()\n",
    "# model score (neg_mean_squared_error)\n",
    "from sklearn import metrics\n",
    "ho_score = -1*metrics.mean_squared_error(y_test, predictions)\n",
    "print(ho_score)\n",
    "end_ho_score = timer()\n",
    "ho_score_time = (end_ho_score - start_ho_score)"
   ]
  },
  {
   "cell_type": "code",
   "execution_count": 8,
   "metadata": {},
   "outputs": [
    {
     "name": "stdout",
     "output_type": "stream",
     "text": [
      "[4.22358985 4.04800271 3.75534521 ... 0.14474758 0.29600522 0.49525933]\n"
     ]
    }
   ],
   "source": [
    "from sklearn.model_selection import cross_val_score\n",
    "from sklearn.model_selection import cross_val_predict\n",
    "from sklearn.metrics import confusion_matrix \n",
    "# store data as an array\n",
    "X = np.array(df)\n",
    "# again, timing the function for comparison\n",
    "start_kfold = timer()\n",
    "# use cross_val_predict to generate K-Fold predictions\n",
    "lm_k = linear_model.LinearRegression()\n",
    "k_predictions = cross_val_predict(lm_k, X, y, cv=10)\n",
    "print(k_predictions)\n",
    "end_kfold = timer()\n",
    "kfold_time = (end_kfold - start_kfold)"
   ]
  },
  {
   "cell_type": "code",
   "execution_count": 9,
   "metadata": {},
   "outputs": [
    {
     "data": {
      "text/plain": [
       "[<matplotlib.lines.Line2D at 0xcab3f98>]"
      ]
     },
     "execution_count": 9,
     "metadata": {},
     "output_type": "execute_result"
    },
    {
     "data": {
      "image/png": "[encoded data removed]",
      "text/plain": [
       "<Figure size 432x288 with 1 Axes>"
      ]
     },
     "metadata": {
      "needs_background": "light"
     },
     "output_type": "display_data"
    }
   ],
   "source": [
    "# plot k-fold predictions against actual\n",
    "plot_k = sns.scatterplot(y, k_predictions)\n",
    "plot_k.set(xlabel='Given', ylabel='Prediction')\n",
    "# generate and graph y = x line\n",
    "x_plot = np.linspace(0,5,100)\n",
    "y_plot = x_plot\n",
    "plt.plot(x_plot, y_plot, color='r')"
   ]
  },
  {
   "cell_type": "markdown",
   "metadata": {},
   "source": [
    "Now let’s get the scores of the 10 generated models and plot them into a visualization."
   ]
  },
  {
   "cell_type": "code",
   "execution_count": 10,
   "metadata": {},
   "outputs": [
    {
     "name": "stdout",
     "output_type": "stream",
     "text": [
      "-0.550952429695665\n"
     ]
    },
    {
     "data": {
      "text/plain": [
       "<matplotlib.axes._subplots.AxesSubplot at 0x605e5f8>"
      ]
     },
     "execution_count": 10,
     "metadata": {},
     "output_type": "execute_result"
    },
    {
     "data": {
      "image/png": "[encoded data removed]",
      "text/plain": [
       "<Figure size 432x288 with 1 Axes>"
      ]
     },
     "metadata": {
      "needs_background": "light"
     },
     "output_type": "display_data"
    }
   ],
   "source": [
    "kfold_score_start = timer()\n",
    "# find the mean score from the k-fold models usinf cross_val_score\n",
    "kfold_scores = cross_val_score(lm_k, X, y, cv=10, scoring='neg_mean_squared_error')\n",
    "print(kfold_scores.mean())\n",
    "kfold_score_end = timer()\n",
    "kfold_score_time = (kfold_score_end - kfold_score_start)\n",
    "# plot scores\n",
    "sns.distplot(kfold_scores, bins=5)"
   ]
  },
  {
   "cell_type": "code",
   "execution_count": null,
   "metadata": {},
   "outputs": [],
   "source": []
  },
  {
   "cell_type": "code",
   "execution_count": null,
   "metadata": {},
   "outputs": [],
   "source": []
  }
 ],
 "metadata": {
  "kernelspec": {
   "display_name": "Python 3",
   "language": "python",
   "name": "python3"
  },
  "language_info": {
   "codemirror_mode": {
    "name": "ipython",
    "version": 3
   },
   "file_extension": ".py",
   "mimetype": "text/x-python",
   "name": "python",
   "nbconvert_exporter": "python",
   "pygments_lexer": "ipython3",
   "version": "3.7.3"
  }
 },
 "nbformat": 4,
 "nbformat_minor": 2
}
